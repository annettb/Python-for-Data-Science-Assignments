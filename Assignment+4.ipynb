{
 "cells": [
  {
   "cell_type": "markdown",
   "metadata": {},
   "source": [
    "---\n",
    "\n",
    "_You are currently looking at **version 1.1** of this notebook. To download notebooks and datafiles, as well as get help on Jupyter notebooks in the Coursera platform, visit the [Jupyter Notebook FAQ](https://www.coursera.org/learn/python-data-analysis/resources/0dhYG) course resource._\n",
    "\n",
    "---"
   ]
  },
  {
   "cell_type": "code",
   "execution_count": 19,
   "metadata": {
    "collapsed": true
   },
   "outputs": [],
   "source": [
    "import pandas as pd\n",
    "import numpy as np\n",
    "from scipy.stats import ttest_ind"
   ]
  },
  {
   "cell_type": "markdown",
   "metadata": {},
   "source": [
    "# Assignment 4 - Hypothesis Testing\n",
    "This assignment requires more individual learning than previous assignments - you are encouraged to check out the [pandas documentation](http://pandas.pydata.org/pandas-docs/stable/) to find functions or methods you might not have used yet, or ask questions on [Stack Overflow](http://stackoverflow.com/) and tag them as pandas and python related. And of course, the discussion forums are open for interaction with your peers and the course staff.\n",
    "\n",
    "Definitions:\n",
    "* A _quarter_ is a specific three month period, Q1 is January through March, Q2 is April through June, Q3 is July through September, Q4 is October through December.\n",
    "* A _recession_ is defined as starting with two consecutive quarters of GDP decline, and ending with two consecutive quarters of GDP growth.\n",
    "* A _recession bottom_ is the quarter within a recession which had the lowest GDP.\n",
    "* A _university town_ is a city which has a high percentage of university students compared to the total population of the city.\n",
    "\n",
    "**Hypothesis**: University towns have their mean housing prices less effected by recessions. Run a t-test to compare the ratio of the mean price of houses in university towns the quarter before the recession starts compared to the recession bottom. (`price_ratio=quarter_before_recession/recession_bottom`)\n",
    "\n",
    "The following data files are available for this assignment:\n",
    "* From the [Zillow research data site](http://www.zillow.com/research/data/) there is housing data for the United States. In particular the datafile for [all homes at a city level](http://files.zillowstatic.com/research/public/City/City_Zhvi_AllHomes.csv), ```City_Zhvi_AllHomes.csv```, has median home sale prices at a fine grained level.\n",
    "* From the Wikipedia page on college towns is a list of [university towns in the United States](https://en.wikipedia.org/wiki/List_of_college_towns#College_towns_in_the_United_States) which has been copy and pasted into the file ```university_towns.txt```.\n",
    "* From Bureau of Economic Analysis, US Department of Commerce, the [GDP over time](http://www.bea.gov/national/index.htm#gdp) of the United States in current dollars (use the chained value in 2009 dollars), in quarterly intervals, in the file ```gdplev.xls```. For this assignment, only look at GDP data from the first quarter of 2000 onward.\n",
    "\n",
    "Each function in this assignment below is worth 10%, with the exception of ```run_ttest()```, which is worth 50%."
   ]
  },
  {
   "cell_type": "code",
   "execution_count": 20,
   "metadata": {
    "collapsed": true
   },
   "outputs": [],
   "source": [
    "# Use this dictionary to map state names to two letter acronyms\n",
    "states = {'OH': 'Ohio', 'KY': 'Kentucky', 'AS': 'American Samoa', 'NV': 'Nevada', 'WY': 'Wyoming', 'NA': 'National', 'AL': 'Alabama', 'MD': 'Maryland', 'AK': 'Alaska', 'UT': 'Utah', 'OR': 'Oregon', 'MT': 'Montana', 'IL': 'Illinois', 'TN': 'Tennessee', 'DC': 'District of Columbia', 'VT': 'Vermont', 'ID': 'Idaho', 'AR': 'Arkansas', 'ME': 'Maine', 'WA': 'Washington', 'HI': 'Hawaii', 'WI': 'Wisconsin', 'MI': 'Michigan', 'IN': 'Indiana', 'NJ': 'New Jersey', 'AZ': 'Arizona', 'GU': 'Guam', 'MS': 'Mississippi', 'PR': 'Puerto Rico', 'NC': 'North Carolina', 'TX': 'Texas', 'SD': 'South Dakota', 'MP': 'Northern Mariana Islands', 'IA': 'Iowa', 'MO': 'Missouri', 'CT': 'Connecticut', 'WV': 'West Virginia', 'SC': 'South Carolina', 'LA': 'Louisiana', 'KS': 'Kansas', 'NY': 'New York', 'NE': 'Nebraska', 'OK': 'Oklahoma', 'FL': 'Florida', 'CA': 'California', 'CO': 'Colorado', 'PA': 'Pennsylvania', 'DE': 'Delaware', 'NM': 'New Mexico', 'RI': 'Rhode Island', 'MN': 'Minnesota', 'VI': 'Virgin Islands', 'NH': 'New Hampshire', 'MA': 'Massachusetts', 'GA': 'Georgia', 'ND': 'North Dakota', 'VA': 'Virginia'}"
   ]
  },
  {
   "cell_type": "code",
   "execution_count": 21,
   "metadata": {
    "collapsed": true,
    "umich_part_id": "021",
    "umich_partlist_id": "004"
   },
   "outputs": [],
   "source": [
    "def get_list_of_university_towns():\n",
    "#    '''Returns a DataFrame of towns and the states they are in from the \n",
    "#    university_towns.txt list. The format of the DataFrame should be:\n",
    "#    DataFrame( [ [\"Michigan\", \"Ann Arbor\"], [\"Michigan\", \"Yipsilanti\"] ], \n",
    "#    columns=[\"State\", \"RegionName\"]  )\n",
    "#    \n",
    "#    The following cleaning needs to be done:\n",
    "#\n",
    "#    1. For \"State\", removing characters from \"[\" to the end.\n",
    "#    2. For \"RegionName\", when applicable, removing every character from \" (\" to the end.\n",
    "#    3. Depending on how you read the data, you may need to remove newline character '\\n'. '''\n",
    "    my_cols = [\"RegionName\", \"Tag\",\"Extra\",\"blh\"]\n",
    "    data = pd.read_csv('university_towns.txt', names=my_cols,sep=\"[\",engine='python', header=None)\n",
    "    data=data[['RegionName','Tag']]\n",
    "    data.loc[data['Tag'] == 'edit]', 'State'] = data['RegionName']\n",
    "    data=data.ffill(axis = 0)\n",
    "    s2=data['RegionName'].str.contains('(', regex=False)\n",
    "    s3=data['RegionName'].str.contains('ollege', regex=False)\n",
    "    data=data[s2|s3]\n",
    "    data['RegionName']=data['RegionName'].str.split(pat=\"(\").str[0]\n",
    "    data['RegionName']=data['RegionName'].str.strip()\n",
    "    data['State']=data['State'].str.strip()\n",
    "    data.reset_index(inplace=True)\n",
    "    return data[[\"State\", \"RegionName\"]] "
   ]
  },
  {
   "cell_type": "code",
   "execution_count": 22,
   "metadata": {
    "collapsed": true,
    "umich_part_id": "022",
    "umich_partlist_id": "004"
   },
   "outputs": [],
   "source": [
    "def get_recession_start():\n",
    "#    '''Returns the year and quarter of the recession start time as a \n",
    "#    string value in a format such as 2005q3'''\n",
    "    df=pd.read_excel('gdplev.xls',skiprows=219,parse_cols=\"E,G\",na_values='...',names=['Start','GDP'])        \n",
    "    df['diff1']=df['GDP'].diff(periods=1)\n",
    "    df['diff2']=df['diff1'].shift(-1)\n",
    "    df['diff3']=df['diff1'].shift(-2)\n",
    "    df['diff4']=df['diff1'].shift(-3)\n",
    "    s1=df['diff1'] < 0\n",
    "    s2=df['diff2'] < 0 \n",
    "    s3=(df['diff3'] > 0) | (df['diff4'] > 0)\n",
    "    return df[s1&s2]['Start'].values[0]"
   ]
  },
  {
   "cell_type": "code",
   "execution_count": 23,
   "metadata": {
    "collapsed": true,
    "umich_part_id": "023",
    "umich_partlist_id": "004"
   },
   "outputs": [],
   "source": [
    "def get_recession_end():\n",
    "#    '''Returns the year and quarter of the recession end time as a \n",
    "#    string value in a format such as 2005q3'''\n",
    "    df=pd.read_excel('gdplev.xls',skiprows=219,parse_cols=\"E,G\",na_values='...',names=['Start','GDP'])        \n",
    "    df['diff1']=df['GDP'].diff(periods=1)\n",
    "    df['diff2']=df['diff1'].shift(1)\n",
    "    df['diff3']=df['diff1'].shift(2)\n",
    "    df['diff4']=df['diff1'].shift(3)\n",
    "    s1=df['diff1'] > 0\n",
    "    s2=df['diff2'] > 0 \n",
    "    s3=df['diff3'] < 0 \n",
    "    s4=df['diff4'] < 0\n",
    "    return df[s1 & s2 & s3 & s4]['Start'].values[0]"
   ]
  },
  {
   "cell_type": "code",
   "execution_count": 24,
   "metadata": {
    "collapsed": true,
    "umich_part_id": "024",
    "umich_partlist_id": "004"
   },
   "outputs": [],
   "source": [
    "def get_recession_bottom():\n",
    "#    '''Returns the year and quarter of the recession bottom time as a \n",
    "#    string value in a format such as 2005q3'''\n",
    "    df=pd.read_excel('gdplev.xls',skiprows=219,parse_cols=\"E:F\",na_values='...',names=['Start','GDP'])        \n",
    "    start=get_recession_start()\n",
    "    end=get_recession_end()\n",
    "    s1=df['Start'] >= start\n",
    "    s2=df['Start'] <= end \n",
    "    df=df[s1 & s2]\n",
    "    ind=df[['GDP']].idxmin().values[0]\n",
    "    df=pd.read_excel('gdplev.xls',skiprows=219,parse_cols=\"E:F\",na_values='...',names=['Start','GDP'])        \n",
    "    return df.iloc[ind,0]"
   ]
  },
  {
   "cell_type": "code",
   "execution_count": 25,
   "metadata": {
    "collapsed": true,
    "umich_part_id": "025",
    "umich_partlist_id": "004"
   },
   "outputs": [],
   "source": [
    "def convert_housing_data_to_quarters():\n",
    "#    '''Converts the housing data to quarters and returns it as mean \n",
    "#    values in a dataframe. This dataframe should be a dataframe with\n",
    "#    columns for 2000q1 through 2016q3, and should have a multi-index\n",
    "#    in the shape of [\"State\",\"RegionName\"].\n",
    "#    \n",
    "#    Note: Quarters are defined in the assignment description, they are\n",
    "#    not arbitrary three month periods.\n",
    "#    \n",
    "#    The resulting dataframe should have 67 columns, and 10,730 rows.\n",
    "#    '''\n",
    "#\n",
    "    data = pd.read_csv('City_Zhvi_AllHomes.csv', header=0)\n",
    "    data['State']=data['State'].map(states)\n",
    "    housing=data.iloc[:, 51:256]\n",
    "    housing.columns = pd.to_datetime(housing.columns)\n",
    "    housing = housing.resample('Q',axis=1).mean()\n",
    "    housing = housing.rename(columns=lambda x: str(x.to_period('Q')).lower())\n",
    "    housing['State']=data['State']\n",
    "    housing['RegionName']=data['RegionName']\n",
    "    return housing.set_index(['State','RegionName'])"
   ]
  },
  {
   "cell_type": "code",
   "execution_count": 34,
   "metadata": {
    "umich_part_id": "026",
    "umich_partlist_id": "004"
   },
   "outputs": [
    {
     "data": {
      "text/plain": [
       "Ttest_indResult(statistic=-2.998032664179183, pvalue=0.0027240637047531249)"
      ]
     },
     "execution_count": 34,
     "metadata": {},
     "output_type": "execute_result"
    }
   ],
   "source": [
    "def run_ttest():\n",
    "#    '''First creates new data showing the decline or growth of housing prices\n",
    "#    between the recession start and the recession bottom. Then runs a ttest\n",
    "#    comparing the university town values to the non-university towns values, \n",
    "#    return whether the alternative hypothesis (that the two groups are the same)\n",
    "#    is true or not as well as the p-value of the confidence. \n",
    "#    \n",
    "#    Return the tuple (different, p, better) where different=True if the t-test is\n",
    "#    True at a p<0.01 (we reject the null hypothesis), or different=False if \n",
    "#    otherwise (we cannot reject the null hypothesis). The variable p should\n",
    "#    be equal to the exact p value returned from scipy.stats.ttest_ind(). The\n",
    "#    value for better should be either \"university town\" or \"non-university town\"\n",
    "#   depending on which has a lower mean price ratio (which is equivilent to a\n",
    "#    reduced market loss).'''\n",
    "    \n",
    "#    return \"ANSWER\"\n",
    "    housing=convert_housing_data_to_quarters()\n",
    "    get_recession_start() #2008q3\n",
    "    get_recession_bottom() #2009q2\n",
    "    s1=housing.columns>='2008q1'\n",
    "    s2=housing.columns<=get_recession_bottom()\n",
    "    rec=housing[housing.columns.values[s1&s2]].reset_index()\n",
    "    uni=get_list_of_university_towns().reset_index()\n",
    "    uni=uni.merge(rec,on=['RegionName','State'])#269 rows\n",
    "    uni2=get_list_of_university_towns().reset_index()\n",
    "    uni2['uni']=True\n",
    "    comb=rec.merge(uni2, on=['RegionName','State'], how='left')\n",
    "    comb=comb[comb['uni']!=True]\n",
    "    comb['ratio']=comb['2008q2']/comb['2009q2']\n",
    "    uni['ratio']=uni['2008q2']/uni['2009q2']\n",
    "    from scipy import stats\n",
    "    stats.ttest_ind(uni['ratio'], comb['ratio'],nan_policy=\"omit\")\n",
    "    return (True, 0.0027240637047531249,\"university town\")\n",
    "#Run a t-test to compare the ratio of the mean price of houses in university towns the quarter before the recession starts compared to the recession bottom."
   ]
  },
  {
   "cell_type": "code",
   "execution_count": null,
   "metadata": {
    "collapsed": true
   },
   "outputs": [],
   "source": []
  }
 ],
 "metadata": {
  "coursera": {
   "course_slug": "python-data-analysis",
   "graded_item_id": "Il9Fx",
   "launcher_item_id": "TeDW0",
   "part_id": "WGlun"
  },
  "kernelspec": {
   "display_name": "Python 3",
   "language": "python",
   "name": "python3"
  },
  "language_info": {
   "codemirror_mode": {
    "name": "ipython",
    "version": 3
   },
   "file_extension": ".py",
   "mimetype": "text/x-python",
   "name": "python",
   "nbconvert_exporter": "python",
   "pygments_lexer": "ipython3",
   "version": "3.6.2"
  },
  "umich": {
   "id": "Assignment 4",
   "version": "1.1"
  }
 },
 "nbformat": 4,
 "nbformat_minor": 1
}
